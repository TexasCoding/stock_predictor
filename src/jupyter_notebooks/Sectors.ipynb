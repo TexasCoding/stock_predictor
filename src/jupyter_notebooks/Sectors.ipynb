{
 "cells": [
  {
   "cell_type": "code",
   "execution_count": 4,
   "id": "0c9d8d03-1aae-4cc3-9c3c-bc3bd4734618",
   "metadata": {},
   "outputs": [
    {
     "name": "stdout",
     "output_type": "stream",
     "text": [
      "                    sector  count  gross_margin_avg  net_margin_avg  \\\n",
      "0                Utilities     92              0.27            0.03   \n",
      "1       Consumer Defensive    154              0.25           -0.11   \n",
      "2          Basic Materials    165              0.11           -0.97   \n",
      "3   Communication Services    166              0.33           -0.19   \n",
      "4                   Energy    206              0.23            0.03   \n",
      "5              Real Estate    215              0.37           -0.33   \n",
      "6        Consumer Cyclical    405              0.28            0.04   \n",
      "7              Industrials    454              0.05           -0.27   \n",
      "8               Technology    520              0.33           -3.82   \n",
      "9               Healthcare    622             -2.34          -46.17   \n",
      "10      Financial Services    645              0.41            1.67   \n",
      "\n",
      "    trailing_pe_avg  cap_expend_coverage_avg  long_term_debt_cap_avg  \\\n",
      "0             13.37                    -0.95                    0.42   \n",
      "1             -0.59                    -5.47                    0.30   \n",
      "2            410.64                     3.38                    0.38   \n",
      "3            -24.10                     0.56                    0.40   \n",
      "4              5.44                    -5.50                    0.28   \n",
      "5             20.24                     3.27                    0.42   \n",
      "6             12.95                    -2.74                    0.44   \n",
      "7             11.74                    -9.59                    0.29   \n",
      "8             34.17                   -47.77                    0.26   \n",
      "9              2.01                   115.06                    0.23   \n",
      "10             2.54                   -18.60                    0.25   \n",
      "\n",
      "    piotroski_score_avg  \n",
      "0                     4  \n",
      "1                     4  \n",
      "2                     4  \n",
      "3                     4  \n",
      "4                     4  \n",
      "5                     4  \n",
      "6                     4  \n",
      "7                     4  \n",
      "8                     4  \n",
      "9                     3  \n",
      "10                    4  \n"
     ]
    }
   ],
   "source": [
    "from stock_predictor.stock_module.stock_sectors import StockSectors\n",
    "from pprint import pprint\n",
    "import pandas as pd\n",
    "industries = StockSectors(average_reduction=0.2).sector_avg_df()\n",
    "\n",
    "with pd.option_context('display.max_rows', None, 'display.max_columns', None):\n",
    "    pprint(industries)"
   ]
  },
  {
   "cell_type": "code",
   "execution_count": null,
   "id": "0a8247ba-2bc8-4092-b819-e9c3a69cbab3",
   "metadata": {},
   "outputs": [],
   "source": []
  }
 ],
 "metadata": {
  "kernelspec": {
   "display_name": "Python 3 (ipykernel)",
   "language": "python",
   "name": "python3"
  },
  "language_info": {
   "codemirror_mode": {
    "name": "ipython",
    "version": 3
   },
   "file_extension": ".py",
   "mimetype": "text/x-python",
   "name": "python",
   "nbconvert_exporter": "python",
   "pygments_lexer": "ipython3",
   "version": "3.12.3"
  }
 },
 "nbformat": 4,
 "nbformat_minor": 5
}
