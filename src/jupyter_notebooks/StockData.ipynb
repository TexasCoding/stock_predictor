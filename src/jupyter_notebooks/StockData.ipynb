{
 "cells": [
  {
   "cell_type": "code",
   "execution_count": null,
   "id": "fd02c6c5-d7a1-4c16-adc3-a56ec479c921",
   "metadata": {},
   "outputs": [],
   "source": [
    "from stock_predictor.stock_module.stock_tickers import StockTickers\n",
    "\n",
    "stock_tickers = StockTickers()\n",
    "\n",
    "stock_tickers.new_add_tickers_to_db()"
   ]
  },
  {
   "cell_type": "code",
   "execution_count": null,
   "id": "efba18cc-0e1a-4417-9560-c1974b1bd010",
   "metadata": {},
   "outputs": [],
   "source": []
  }
 ],
 "metadata": {
  "kernelspec": {
   "display_name": "Python 3 (ipykernel)",
   "language": "python",
   "name": "python3"
  },
  "language_info": {
   "codemirror_mode": {
    "name": "ipython",
    "version": 3
   },
   "file_extension": ".py",
   "mimetype": "text/x-python",
   "name": "python",
   "nbconvert_exporter": "python",
   "pygments_lexer": "ipython3",
   "version": "3.12.3"
  }
 },
 "nbformat": 4,
 "nbformat_minor": 5
}
