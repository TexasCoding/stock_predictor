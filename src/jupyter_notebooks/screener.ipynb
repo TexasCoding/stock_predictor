{
 "cells": [
  {
   "cell_type": "code",
   "execution_count": null,
   "id": "53f4c410-c0bc-443b-82e2-478630873ae4",
   "metadata": {},
   "outputs": [],
   "source": [
    "from stock_predictor.stock_module.stock_screener import StockScreener\n",
    "from stock_predictor.stock_module.stock_charts import StockCharts\n",
    "\n",
    "stock_screener = StockScreener()\n",
    "chart = StockCharts()\n",
    "filtered_tickers, filtered_tickers_df = stock_screener.filter_tickers()\n",
    "\n",
    "\n",
    "\n",
    "for ticker in filtered_tickers:\n",
    "    df = filtered_tickers_df[filtered_tickers_df[\"symbol\"] == ticker]\n",
    "    chart.plot_prediction_chart(filtered_tickers_df)"
   ]
  },
  {
   "cell_type": "code",
   "execution_count": null,
   "id": "30366387-b435-4284-b4ee-37f327e58f86",
   "metadata": {},
   "outputs": [],
   "source": []
  }
 ],
 "metadata": {
  "kernelspec": {
   "display_name": "Python 3 (ipykernel)",
   "language": "python",
   "name": "python3"
  },
  "language_info": {
   "codemirror_mode": {
    "name": "ipython",
    "version": 3
   },
   "file_extension": ".py",
   "mimetype": "text/x-python",
   "name": "python",
   "nbconvert_exporter": "python",
   "pygments_lexer": "ipython3",
   "version": "3.12.3"
  }
 },
 "nbformat": 4,
 "nbformat_minor": 5
}
