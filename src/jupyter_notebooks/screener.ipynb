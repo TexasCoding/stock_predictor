{
 "cells": [
  {
   "cell_type": "code",
   "execution_count": 1,
   "id": "289842a6-7817-49d7-9407-3182ae3b9b3d",
   "metadata": {},
   "outputs": [],
   "source": [
    "from stock_predictor.stock_module.stock_screener import StockScreener\n",
    "from stock_predictor.stock_module.stock_charts import StockCharts"
   ]
  },
  {
   "cell_type": "code",
   "execution_count": null,
   "id": "53f4c410-c0bc-443b-82e2-478630873ae4",
   "metadata": {},
   "outputs": [
    {
     "data": {
      "application/vnd.jupyter.widget-view+json": {
       "model_id": "d7d56e79e68a4f54928cd16e98051476",
       "version_major": 2,
       "version_minor": 0
      },
      "text/plain": [
       "Output()"
      ]
     },
     "metadata": {},
     "output_type": "display_data"
    },
    {
     "name": "stderr",
     "output_type": "stream",
     "text": [
      "ERROR:yfinance:404 Client Error: Not Found for url: https://query2.finance.yahoo.com/v10/finance/quoteSummary/ERO?modules=recommendationTrend&corsDomain=finance.yahoo.com&formatted=false&symbol=ERO&crumb=H70fBthULya\n"
     ]
    },
    {
     "data": {
      "text/html": [
       "<pre style=\"white-space:pre;overflow-x:auto;line-height:normal;font-family:Menlo,'DejaVu Sans Mono',consolas,'Courier New',monospace\">Error in get_sentiment_analysis: Unexpected sentiment response: BWXTBULLISH\n",
       "</pre>\n"
      ],
      "text/plain": [
       "Error in get_sentiment_analysis: Unexpected sentiment response: BWXTBULLISH\n"
      ]
     },
     "metadata": {},
     "output_type": "display_data"
    }
   ],
   "source": [
    "stock_screener = StockScreener()\n",
    "chart = StockCharts()\n",
    "filtered_tickers, filtered_tickers_df = stock_screener.filter_tickers()\n",
    "\n",
    "for ticker in filtered_tickers:\n",
    "    df = filtered_tickers_df[filtered_tickers_df[\"symbol\"] == ticker]\n",
    "    chart.plot_prediction_chart(filtered_tickers_df)"
   ]
  },
  {
   "cell_type": "code",
   "execution_count": null,
   "id": "6d69dd9f-7d8d-4284-a524-43be5872fed8",
   "metadata": {},
   "outputs": [],
   "source": []
  }
 ],
 "metadata": {
  "kernelspec": {
   "display_name": "Python 3 (ipykernel)",
   "language": "python",
   "name": "python3"
  },
  "language_info": {
   "codemirror_mode": {
    "name": "ipython",
    "version": 3
   },
   "file_extension": ".py",
   "mimetype": "text/x-python",
   "name": "python",
   "nbconvert_exporter": "python",
   "pygments_lexer": "ipython3",
   "version": "3.12.3"
  }
 },
 "nbformat": 4,
 "nbformat_minor": 5
}
