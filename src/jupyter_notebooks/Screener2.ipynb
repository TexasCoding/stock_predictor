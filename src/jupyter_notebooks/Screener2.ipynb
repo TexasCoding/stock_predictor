{
 "cells": [
  {
   "cell_type": "code",
   "execution_count": 2,
   "id": "93ea3be6-d9e9-40d3-9ee8-f1486fb2b915",
   "metadata": {},
   "outputs": [
    {
     "ename": "SyntaxError",
     "evalue": "unterminated string literal (detected at line 11) (2234442237.py, line 11)",
     "output_type": "error",
     "traceback": [
      "\u001b[0;36m  Cell \u001b[0;32mIn[2], line 11\u001b[0;36m\u001b[0m\n\u001b[0;31m    print(\"\\n\u001b[0m\n\u001b[0m          ^\u001b[0m\n\u001b[0;31mSyntaxError\u001b[0m\u001b[0;31m:\u001b[0m unterminated string literal (detected at line 11)\n"
     ]
    }
   ],
   "source": [
    "from stock_predictor.stock_module.stock_screener2 import StockScreener2\n",
    "from stock_predictor.stock_module.stock_charts import StockCharts\n",
    "from rich.console imort Console\n",
    "\n",
    "console = Console()\n",
    "\n",
    "screened_df = StockScreener2().screener()\n",
    "\n",
    "if not screened_df.empty:\n",
    "    chart = StockCharts()\n",
    "    filtered_tickers = screened_df.symbol.unique().tolist()\n",
    "    for ticker in filtered_tickers:\n",
    "        df = screened_df[screened_df[\"symbol\"] == ticker]\n",
    "        console.print(f\"[bold magenta]{ticker}\")\n",
    "        chart.plot_prediction_chart(df)\n"
   ]
  },
  {
   "cell_type": "code",
   "execution_count": null,
   "id": "52421a13-7000-498a-8360-8dfb44f8a288",
   "metadata": {},
   "outputs": [],
   "source": []
  }
 ],
 "metadata": {
  "kernelspec": {
   "display_name": "Python 3 (ipykernel)",
   "language": "python",
   "name": "python3"
  },
  "language_info": {
   "codemirror_mode": {
    "name": "ipython",
    "version": 3
   },
   "file_extension": ".py",
   "mimetype": "text/x-python",
   "name": "python",
   "nbconvert_exporter": "python",
   "pygments_lexer": "ipython3",
   "version": "3.12.3"
  }
 },
 "nbformat": 4,
 "nbformat_minor": 5
}
