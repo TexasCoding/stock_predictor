{
 "cells": [
  {
   "cell_type": "code",
   "execution_count": 3,
   "id": "3772c922-45ed-4148-95b3-204b9364d8e6",
   "metadata": {},
   "outputs": [
    {
     "name": "stdout",
     "output_type": "stream",
     "text": [
      "Pre Sentiment: BEARISH\n",
      "Post Sentiment: BEARISH\n",
      "Pre Sentiment: BEARISH\n",
      "Post Sentiment: BEARISH\n",
      "Pre Sentiment: BULLISH\n",
      "Post Sentiment: BULLISH\n",
      "Pre Sentiment: BEARISH\n",
      "Post Sentiment: BEARISH\n",
      "Pre Sentiment: NEUTRAL\n",
      "Post Sentiment: NEUTRAL\n",
      "Pre Sentiment: BEARISH\n",
      "Post Sentiment: BEARISH\n"
     ]
    },
    {
     "data": {
      "text/plain": [
       "False"
      ]
     },
     "execution_count": 3,
     "metadata": {},
     "output_type": "execute_result"
    }
   ],
   "source": [
    "from stock_predictor.stock_module.stock_screener import StockScreener\n",
    "\n",
    "StockScreener()._filter_news(\"CX\")"
   ]
  },
  {
   "cell_type": "code",
   "execution_count": null,
   "id": "75489508-636f-48bb-b0c3-87933a4fdf86",
   "metadata": {},
   "outputs": [],
   "source": []
  },
  {
   "cell_type": "code",
   "execution_count": null,
   "id": "2693ef10-a059-447a-a5da-edaa0998facf",
   "metadata": {},
   "outputs": [],
   "source": []
  }
 ],
 "metadata": {
  "kernelspec": {
   "display_name": "Python 3 (ipykernel)",
   "language": "python",
   "name": "python3"
  },
  "language_info": {
   "codemirror_mode": {
    "name": "ipython",
    "version": 3
   },
   "file_extension": ".py",
   "mimetype": "text/x-python",
   "name": "python",
   "nbconvert_exporter": "python",
   "pygments_lexer": "ipython3",
   "version": "3.12.3"
  }
 },
 "nbformat": 4,
 "nbformat_minor": 5
}
