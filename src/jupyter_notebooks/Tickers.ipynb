{
 "cells": [
  {
   "cell_type": "code",
   "execution_count": 1,
   "id": "323e56cc-2096-4f32-b76f-dd3ae225bcc9",
   "metadata": {},
   "outputs": [
    {
     "name": "stdout",
     "output_type": "stream",
     "text": [
      "895\n",
      "['A', 'AAON', 'ABBV', 'ABEV', 'ABM', 'ABT', 'ACAD', 'ACI', 'ACM', 'ACU', 'ADC', 'ADEA', 'ADI', 'ADMA', 'ADP', 'ADSK', 'ADT', 'ADUS', 'AEIS', 'AEO', 'AFYA', 'AGCO', 'AGL', 'AGS', 'AIN', 'AIR', 'AIT', 'AL', 'ALC', 'ALG', 'ALGN', 'ALKS', 'ALLE', 'ALRM', 'ALTR', 'AM', 'AMCX', 'AMD', 'AME', 'AMN', 'AMPH', 'AMSWA', 'AMT', 'AMX', 'AMZN', 'ANET', 'ANF', 'ANIP', 'AORT', 'AOS', 'APA', 'APEI', 'APG', 'APPF', 'APT', 'ARIS', 'ARM', 'AROC', 'ARTNA', 'ASML', 'ASO', 'ATAT', 'ATGE', 'ATHM', 'ATI', 'ATKR', 'ATR', 'ATRI', 'ATS', 'ATSG', 'ATUS', 'AUDC', 'AVAV', 'AVY', 'AWI', 'AWK', 'AYI', 'AZEK', 'AZN', 'AZO', 'AZZ', 'B', 'BAH', 'BAX', 'BBWI', 'BCO', 'BDX', 'BFZ', 'BIDU', 'BIIB', 'BILL', 'BIO', 'BIPC', 'BKE', 'BKNG', 'BL', 'BLD', 'BLDR', 'BLE', 'BLKB', 'BMI', 'BMRN', 'BOOT', 'BOX', 'BRBR', 'BRC', 'BRKR', 'BSM', 'BSX', 'BSY', 'BUD', 'BWAY', 'BWXT', 'BXC', 'BYRN', 'BZ', 'CABO', 'CAG', 'CAH', 'CALM', 'CALX', 'CARG', 'CARR', 'CASS', 'CAT', 'CBL', 'CBZ', 'CCEP', 'CCI', 'CCRN', 'CCU', 'CDNS', 'CDRE', 'CECO', 'CEIX', 'CELH', 'CENT', 'CENTA', 'CGNX', 'CHCT', 'CHD', 'CHDN', 'CHE', 'CHRD', 'CHRW', 'CHTR', 'CHX', 'CIX', 'CL', 'CLH', 'CMCO', 'CMCSA', 'CNC', 'CNI', 'CNMD', 'CNQ', 'COCO', 'COKE', 'COLL', 'COLM', 'COO', 'COP', 'COR', 'CORT', 'COTY', 'CP', 'CPB', 'CPRT', 'CPRX', 'CR', 'CRAI', 'CRI', 'CRL', 'CRM', 'CRNT', 'CROX', 'CRS', 'CRTO', 'CRWD', 'CSGP', 'CSL', 'CSWI', 'CSX', 'CTAS', 'CTRA', 'CTRE', 'CUBE', 'CVLG', 'CVS', 'CW', 'CWAN', 'CWCO', 'CXT', 'CYBR', 'D', 'DAY', 'DCGO', 'DCI', 'DDL', 'DDOG', 'DECK', 'DEO', 'DESP', 'DG', 'DGII', 'DGX', 'DHR', 'DHT', 'DKL', 'DKS', 'DLB', 'DLHC', 'DLO', 'DLTR', 'DLX', 'DMLP', 'DOCN', 'DOCS', 'DOCU', 'DORM', 'DPZ', 'DRS', 'DSGX', 'DSX', 'DT', 'DTM', 'DUK', 'DUOL', 'DV', 'DVA', 'DVN', 'DXCM', 'DXPE', 'DY', 'EA', 'EBAY', 'EBF', 'EBR', 'EC', 'EDR', 'EDU', 'EE', 'EEX', 'EFX', 'EGP', 'EGRX', 'EGY', 'EHAB', 'EHC', 'EL', 'ELAN', 'ELV', 'EMBC', 'EME', 'EML', 'ENB', 'ENR', 'ENS', 'ENSG', 'ENTG', 'ENV', 'EOG', 'EPAC', 'EPC', 'EPRT', 'EPSN', 'EQIX', 'EQNR', 'ERJ', 'ESAB', 'ESLT', 'ETD', 'ETN', 'ETSY', 'EVI', 'EVRG', 'EW', 'EWCZ', 'EXEL', 'EXPD', 'EXPO', 'EXR', 'FANG', 'FAST', 'FBIN', 'FC', 'FCN', 'FE', 'FELE', 'FENC', 'FERG', 'FICO', 'FIS', 'FIX', 'FIZZ', 'FLNG', 'FLO', 'FLS', 'FMS', 'FMX', 'FND', 'FORM', 'FOX', 'FOXA', 'FPH', 'FPI', 'FR', 'FRPH', 'FRPT', 'FRT', 'FSLR', 'FSS', 'FSTR', 'FTAI', 'FTDR', 'FTNT', 'FTV', 'FVRR', 'FWONA', 'FWONK', 'GATX', 'GBX', 'GD', 'GE', 'GEHC', 'GEO', 'GETY', 'GFF', 'GGG', 'GHC', 'GHM', 'GIC', 'GIL', 'GIS', 'GLNG', 'GLPG', 'GMRE', 'GMS', 'GNRC', 'GNTX', 'GOOD', 'GOOG', 'GOOGL', 'GPC', 'GPN', 'GRFS', 'GRPN', 'GSK', 'GTES', 'GTLS', 'GWRS', 'GWW', 'HAE', 'HALO', 'HAS', 'HAYN', 'HAYW', 'HCA', 'HCSG', 'HD', 'HEES', 'HEI', 'HELE', 'HES', 'HESM', 'HI', 'HII', 'HLF', 'HLIO', 'HLN', 'HNI', 'HOLI', 'HOLX', 'HON', 'HP', 'HQI', 'HQY', 'HRMY', 'HSHP', 'HSIC', 'HSTM', 'HSY', 'HTHT', 'HUBG', 'HUBS', 'HUM', 'HURN', 'HWM', 'HXL', 'IAC', 'IBP', 'ICFI', 'ICLR', 'IDXX', 'IEX', 'IGT', 'IHRT', 'IIIN', 'IIIV', 'IMAX', 'INCY', 'INFA', 'INGR', 'INMD', 'INN', 'INOD', 'INTT', 'INVA', 'IPAR', 'IPGP', 'IQV', 'IR', 'IRDM', 'IRM', 'IRMD', 'ISRG', 'IT', 'ITGR', 'ITI', 'ITT', 'ITW', 'J', 'JBHT', 'JBI', 'JBT', 'JJSF', 'JKHY', 'JLL', 'JNJ', 'JYNT', 'K', 'KAI', 'KAR', 'KBR', 'KDP', 'KEX', 'KEYS', 'KFRC', 'KHC', 'KLAC', 'KMB', 'KMI', 'KMT', 'KN', 'KNTK', 'KO', 'KOF', 'KOS', 'KRG', 'KRP', 'KRT', 'KRYS', 'KT', 'KTB', 'KTOS', 'KVUE', 'LAC', 'LADR', 'LAKE', 'LAMR', 'LBRDA', 'LBRDK', 'LECO', 'LFVN', 'LH', 'LHX', 'LII', 'LKQ', 'LLY', 'LMAT', 'LMB', 'LMT', 'LNG', 'LNN', 'LNTH', 'LNW', 'LOPE', 'LOW', 'LPX', 'LQDT', 'LRN', 'LSCC', 'LSTR', 'LSXMA', 'LSXMK', 'LULU', 'LVS', 'LWAY', 'LXFR', 'LZ', 'MAMA', 'MAN', 'MANH', 'MANU', 'MAS', 'MASI', 'MATW', 'MATX', 'MBC', 'MCD', 'MCHP', 'MCK', 'MCRI', 'MCS', 'MCW', 'MD', 'MDLZ', 'MDT', 'MDU', 'MDXG', 'MEC', 'MEDP', 'MELI', 'META', 'MGM', 'MGNI', 'MGPI', 'MGY', 'MIDD', 'MKC', 'MMS', 'MMSI', 'MNDY', 'MNKD', 'MNST', 'MNTK', 'MNTX', 'MO', 'MOH', 'MOMO', 'MPWR', 'MRK', 'MRO', 'MRTN', 'MSA', 'MSEX', 'MSFT', 'MSM', 'MTCH', 'MTD', 'MTSI', 'MTW', 'MUR', 'MWA', 'MYRG', 'NABL', 'NATH', 'NATR', 'NBIX', 'NDSN', 'NFE', 'NFG', 'NFLX', 'NGG', 'NGVC', 'NHC', 'NHI', 'NICE', 'NKE', 'NL', 'NNN', 'NOC', 'NOMD', 'NOW', 'NRC', 'NSC', 'NSP', 'NSSC', 'NTST', 'NVDA', 'NVEE', 'NVMI', 'NVO', 'NVS', 'NWPX', 'NWS', 'NWSA', 'NX', 'NXST', 'NXT', 'NYT', 'O', 'OBE', 'OC', 'ODFL', 'OFLX', 'OGN', 'OHI', 'OKE', 'OLED', 'OLLI', 'OLP', 'OLPX', 'OMAB', 'ONON', 'ONTO', 'OPCH', 'OPRA', 'ORA', 'ORLY', 'OTIS', 'OXY', 'PAC', 'PAHC', 'PANW', 'PAYS', 'PAYX', 'PBA', 'PBH', 'PCAR', 'PCRX', 'PDCO', 'PDEX', 'PEG', 'PEN', 'PEP', 'PETQ', 'PFIE', 'PG', 'PGNY', 'PGRE', 'PH', 'PHI', 'PHX', 'PKE', 'PLAY', 'PLD', 'PLNT', 'PLPC', 'PLTR', 'PLYM', 'PM', 'PNM', 'PNR', 'PNTG', 'PODD', 'POOL', 'POST', 'POWI', 'POWL', 'PPL', 'PRDO', 'PRG', 'PRGO', 'PRIM', 'PRLB', 'PRMW', 'PRVA', 'PSFE', 'PTC', 'PWR', 'QLYS', 'QRVO', 'QSG', 'QSR', 'QUIK', 'R', 'RACE', 'RBA', 'RBBN', 'RBC', 'RCL', 'RDCM', 'RDVT', 'RDY', 'REG', 'REGN', 'REI', 'RELX', 'REPX', 'REVG', 'REXR', 'REZI', 'RGEN', 'RGP', 'RGR', 'RL', 'RLX', 'RMBS', 'RMD', 'RMNI', 'ROCK', 'ROIC', 'ROK', 'ROL', 'ROP', 'RPRX', 'RRC', 'RSG', 'RSVR', 'RTO', 'RTX', 'RVP', 'RVTY', 'RYN', 'SAM', 'SBAC', 'SBR', 'SBRA', 'SBS', 'SCHL', 'SCOR', 'SCS', 'SCVL', 'SCYX', 'SDRL', 'SEAT', 'SEE', 'SEM', 'SEMR', 'SFM', 'SHC', 'SHLS', 'SHO', 'SHOO', 'SIGA', 'SIMO', 'SJM', 'SKT', 'SLP', 'SM', 'SMLR', 'SMPL', 'SNA', 'SNN', 'SNPS', 'SNY', 'SO', 'SOI', 'SOTK', 'SPB', 'SPOK', 'SPSC', 'SRDX', 'SRE', 'SRPT', 'SRTS', 'SSD', 'SSP', 'SSTK', 'STAG', 'STN', 'STRA', 'STRL', 'STVN', 'STZ', 'SU', 'SUPN', 'SWK', 'SXI', 'SYK', 'T', 'TAL', 'TAP', 'TDC', 'TDG', 'TDW', 'TECH', 'TER', 'TFII', 'TFX', 'TGNA', 'TGS', 'TGT', 'TH', 'THR', 'THRY', 'TIGO', 'TILE', 'TIMB', 'TJX', 'TKR', 'TLK', 'TME', 'TMO', 'TMUS', 'TNC', 'TNET', 'TPB', 'TPC', 'TPL', 'TPR', 'TPX', 'TR', 'TRDA', 'TREX', 'TRI', 'TRMB', 'TRN', 'TRNO', 'TRNS', 'TRP', 'TRU', 'TS', 'TSCO', 'TT', 'TTC', 'TTD', 'TTEK', 'TV', 'TWI', 'TWIN', 'TXT', 'TYL', 'TZOO', 'UFPT', 'UG', 'UHS', 'UL', 'ULBI', 'ULTA', 'UNP', 'UONEK', 'UPS', 'UPWK', 'URBN', 'URI', 'UROY', 'USAC', 'USM', 'USNA', 'USPH', 'UTHR', 'UTI', 'UTMD', 'VEEV', 'VERX', 'VGR', 'VIRC', 'VIST', 'VITL', 'VIV', 'VLGEA', 'VMD', 'VMI', 'VNO', 'VOD', 'VREX', 'VRRM', 'VRSK', 'VRTX', 'VTRS', 'VTSI', 'VVV', 'VZ', 'WAB', 'WAT', 'WBA', 'WCC', 'WCN', 'WDAY', 'WEN', 'WERN', 'WES', 'WEX', 'WFRD', 'WH', 'WHD', 'WINA', 'WING', 'WIX', 'WLDN', 'WLY', 'WLYB', 'WM', 'WMB', 'WMG', 'WMS', 'WMT', 'WNC', 'WNS', 'WSC', 'WSO', 'WST', 'WTS', 'WWD', 'WYNN', 'XNET', 'XPEL', 'XPO', 'XRAY', 'YELP', 'YETI', 'YORW', 'YUM', 'YY', 'ZBH', 'ZD', 'ZH', 'ZI', 'ZNTL', 'ZS', 'ZTO', 'ZTS', 'ZWS']\n"
     ]
    }
   ],
   "source": [
    "from stock_predictor.stock_module.stock_tickers import StockTickers\n",
    "from stock_predictor.stock_module.stock_sectors import StockSectors\n",
    "from pprint import pprint\n",
    "import pandas as pd\n",
    "industries = StockSectors().sector_avg_df()\n",
    "tickers = StockTickers().get_profitable_tickers(industries)\n",
    "\n",
    "print(len(tickers))\n",
    "print(tickers)"
   ]
  },
  {
   "cell_type": "code",
   "execution_count": null,
   "id": "70df0745-6dde-4f72-bf36-df2494431ee3",
   "metadata": {},
   "outputs": [],
   "source": []
  }
 ],
 "metadata": {
  "kernelspec": {
   "display_name": "Python 3 (ipykernel)",
   "language": "python",
   "name": "python3"
  },
  "language_info": {
   "codemirror_mode": {
    "name": "ipython",
    "version": 3
   },
   "file_extension": ".py",
   "mimetype": "text/x-python",
   "name": "python",
   "nbconvert_exporter": "python",
   "pygments_lexer": "ipython3",
   "version": "3.12.3"
  }
 },
 "nbformat": 4,
 "nbformat_minor": 5
}
